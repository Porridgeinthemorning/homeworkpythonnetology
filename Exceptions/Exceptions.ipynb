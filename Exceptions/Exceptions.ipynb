{
 "cells": [
  {
   "cell_type": "markdown",
   "metadata": {},
   "source": [
    "### Задание 1\n",
    "Печатные газеты использовали свой формат дат для каждого выпуска. Для каждой газеты из списка напишите формат   указанной даты для перевода в объект datetime:  \n",
    "The Moscow Times - Wednesday, October 2, 2002  \n",
    "The Guardian - Friday, 11.10.13  \n",
    "Daily News - Thursday, 18 August 1977  "
   ]
  },
  {
   "cell_type": "code",
   "execution_count": 60,
   "metadata": {},
   "outputs": [],
   "source": [
    "from datetime import datetime, timedelta"
   ]
  },
  {
   "cell_type": "code",
   "execution_count": 27,
   "metadata": {},
   "outputs": [],
   "source": [
    "the_moscow_times = 'Wednesday, October 2, 2002'\n",
    "the_guardian = 'Friday, 11.10.13'\n",
    "daily_news = 'Thursday, 18 August 1977'"
   ]
  },
  {
   "cell_type": "code",
   "execution_count": 34,
   "metadata": {},
   "outputs": [
    {
     "name": "stdout",
     "output_type": "stream",
     "text": [
      "2002-10-02 00:00:00\n",
      "2013-10-11 00:00:00\n",
      "1977-08-18 00:00:00\n"
     ]
    }
   ],
   "source": [
    "print(datetime.strptime(the_moscow_times, '%A, %B %d, %Y'))\n",
    "print(datetime.strptime(the_guardian, '%A, %d.%m.%y'))\n",
    "print(datetime.strptime(daily_news, '%A, %d %B %Y'))"
   ]
  },
  {
   "cell_type": "markdown",
   "metadata": {},
   "source": [
    "### Задание 2\n",
    "Дан поток дат в формате YYYY-MM-DD, в которых встречаются некорректные значения:    \n",
    "stream = [‘2018-04-02’, ‘2018-02-29’, ‘2018-19-02’]\n",
    "\n",
    "Напишите функцию, которая проверяет эти даты на корректность.  \n",
    "Т. е. для каждой даты возвращает True (дата корректна) или False (некорректная дата)."
   ]
  },
  {
   "cell_type": "code",
   "execution_count": 56,
   "metadata": {},
   "outputs": [],
   "source": [
    "stream = ['2018-04-02', '2018-02-29', '2018-19-02']"
   ]
  },
  {
   "cell_type": "code",
   "execution_count": 57,
   "metadata": {},
   "outputs": [
    {
     "name": "stdout",
     "output_type": "stream",
     "text": [
      "True Дата 2018-04-02 корректна\n",
      "False Дата 2018-02-29 некорректна\n",
      "False Дата 2018-19-02 некорректна\n"
     ]
    }
   ],
   "source": [
    "def date_check(stream):\n",
    "    for i in stream:\n",
    "        try:\n",
    "            datetime.strptime(i, '%Y-%m-%d')\n",
    "            print(f'{True} Дата {i} корректна')\n",
    "        except:\n",
    "            print(f'{False} Дата {i} некорректна')\n",
    "date_check(stream)"
   ]
  },
  {
   "cell_type": "markdown",
   "metadata": {},
   "source": [
    "### Задание 3\n",
    "Напишите функцию date_range, которая возвращает список дат за период от start_date до end_date.   \n",
    "Даты должны вводиться в формате YYYY-MM-DD.   \n",
    "В случае неверного формата или при start_date > end_date должен   возвращаться пустой список.  "
   ]
  },
  {
   "cell_type": "code",
   "execution_count": 116,
   "metadata": {},
   "outputs": [],
   "source": [
    "def date_range(start_date, end_date):\n",
    "        date_list = []\n",
    "        try:\n",
    "            start_date = datetime.strptime(start_date, '%Y-%m-%d')\n",
    "            end_date = datetime.strptime(end_date, '%Y-%m-%d')\n",
    "            if start_date < end_date:\n",
    "                delta = end_date - start_date\n",
    "                for i in range(delta.days+1):\n",
    "                    date_list.append((start_date+timedelta(days=i)).strftime('%Y-%m-%d'))\n",
    "                return date_list\n",
    "            else:\n",
    "                print('Конечная дата больше начальной, попробуйте еще раз')\n",
    "                return date_list\n",
    "        except:\n",
    "            print('Неверный формат даты, попробуйте еще раз')\n",
    "            return date_list"
   ]
  },
  {
   "cell_type": "code",
   "execution_count": 118,
   "metadata": {},
   "outputs": [
    {
     "name": "stdout",
     "output_type": "stream",
     "text": [
      "Введите начальную дату в формате YYYY-MM-DD: 2020-12-09\n",
      "Введите конечную дату в формате YYYY-MM-DD: 2020-12-01\n",
      "Конечная дата больше начальной, попробуйте еще раз\n"
     ]
    },
    {
     "data": {
      "text/plain": [
       "[]"
      ]
     },
     "execution_count": 118,
     "metadata": {},
     "output_type": "execute_result"
    }
   ],
   "source": [
    "date_range(input('Введите начальную дату в формате YYYY-MM-DD: '),\n",
    "           input('Введите конечную дату в формате YYYY-MM-DD: '))     "
   ]
  },
  {
   "cell_type": "code",
   "execution_count": 119,
   "metadata": {},
   "outputs": [
    {
     "name": "stdout",
     "output_type": "stream",
     "text": [
      "Введите начальную дату в формате YYYY-MM-DD: 2020-12-01\n",
      "Введите конечную дату в формате YYYY-MM-DD: 2020-12-09\n"
     ]
    },
    {
     "data": {
      "text/plain": [
       "['2020-12-01',\n",
       " '2020-12-02',\n",
       " '2020-12-03',\n",
       " '2020-12-04',\n",
       " '2020-12-05',\n",
       " '2020-12-06',\n",
       " '2020-12-07',\n",
       " '2020-12-08',\n",
       " '2020-12-09']"
      ]
     },
     "execution_count": 119,
     "metadata": {},
     "output_type": "execute_result"
    }
   ],
   "source": [
    "date_range(input('Введите начальную дату в формате YYYY-MM-DD: '),\n",
    "           input('Введите конечную дату в формате YYYY-MM-DD: '))  "
   ]
  },
  {
   "cell_type": "code",
   "execution_count": 120,
   "metadata": {},
   "outputs": [
    {
     "name": "stdout",
     "output_type": "stream",
     "text": [
      "Введите начальную дату в формате YYYY-MM-DD: 1212313\n",
      "Введите конечную дату в формате YYYY-MM-DD: 12414\n",
      "Неверный формат даты, попробуйте еще раз\n"
     ]
    },
    {
     "data": {
      "text/plain": [
       "[]"
      ]
     },
     "execution_count": 120,
     "metadata": {},
     "output_type": "execute_result"
    }
   ],
   "source": [
    "date_range(input('Введите начальную дату в формате YYYY-MM-DD: '),\n",
    "           input('Введите конечную дату в формате YYYY-MM-DD: '))  "
   ]
  },
  {
   "cell_type": "markdown",
   "metadata": {},
   "source": [
    "### Задание 4 (бонусное)\n",
    "Ваш коллега прислал код функции:\n",
    "\n",
    "DEFAULT_USER_COUNT = 3\n",
    "\n",
    "def delete_and_return_last_user(region, default_list=[‘A100’, ‘A101’, ‘A102’]):  \n",
    "\"\"“  \n",
    "Удаляет из списка default_list последнего пользователя  \n",
    "и возвращает ID нового последнего пользователя.  \n",
    "”\"\"  \n",
    "element_to_delete = default_list[-1]  \n",
    "default_list.remove(element_to_delete)   \n",
    "\n",
    "1\n",
    "return default_list[DEFAULT_USER_COUNT-2]  \n",
    "При однократном вызове этой функции все работает корректно:  \n",
    "delete_and_return_last_user(1)  \n",
    "‘A101’  \n",
    "\n",
    "Однако, при повторном вызове получается ошибка IndexError: list index out of range.  \n",
    "\n",
    "Задание:  \n",
    "\n",
    "Что значит ошибка list index out of range?  \n",
    "Почему при первом запуске функция работает корректно, а при втором - нет?  "
   ]
  },
  {
   "cell_type": "code",
   "execution_count": 14,
   "metadata": {},
   "outputs": [],
   "source": [
    "DEFAULT_USER_COUNT = 3\n",
    "def delete_and_return_last_user(region, default_list=['A100', 'A101', 'A102']): #есть список из трех элементов\n",
    "    element_to_delete = default_list[-1] #выбираем элемент последний с конца\n",
    "    print(element_to_delete) \n",
    "    default_list.remove(element_to_delete) #удаляем выбранный элемент с конца списка default_list.  В списке default_list остается 2 элемента\n",
    "    print(default_list)\n",
    "    return default_list[DEFAULT_USER_COUNT-2] #при первом вызове функции мы возращаем элемент с индексом [1],\n",
    "                                              #то есть из оставшихся элементов в списке ['A100', 'A101'] элемент 'A101'\n",
    "    #когда вызов функции проиходит второй раз, возникает ошибка list index out of range, из-за того, \n",
    "    #что в списке default_list остается один элемент 'A100' с индесом default_list[0], при этом функция хочет вернуть \n",
    "    #элемент с индексом default_list[1]. Такого элемента в списке не сущетсвует, так как мы его удалили \n",
    "    #во втором вызове функции"
   ]
  }
 ],
 "metadata": {
  "kernelspec": {
   "display_name": "Python 3",
   "language": "python",
   "name": "python3"
  },
  "language_info": {
   "codemirror_mode": {
    "name": "ipython",
    "version": 3
   },
   "file_extension": ".py",
   "mimetype": "text/x-python",
   "name": "python",
   "nbconvert_exporter": "python",
   "pygments_lexer": "ipython3",
   "version": "3.7.3"
  }
 },
 "nbformat": 4,
 "nbformat_minor": 2
}
