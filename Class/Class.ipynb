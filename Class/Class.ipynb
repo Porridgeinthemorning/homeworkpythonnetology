{
 "cells": [
  {
   "cell_type": "markdown",
   "metadata": {},
   "source": [
    "### Задание 1\n",
    "Напишите функцию, которая возвращает название валюты (поле ‘Name’)  \n",
    "с максимальным значением курса с помощью сервиса https://www.cbr-xml-daily.ru/daily_json.js  "
   ]
  },
  {
   "cell_type": "markdown",
   "metadata": {},
   "source": [
    "### Задание 2\n",
    "Добавьте в класс Rate параметр diff (со значениями True или False),  \n",
    "который в случае значения True в методах курсов   валют (eur, usd итд) будет возвращать не курс валюты,  \n",
    "а изменение по сравнению в прошлым значением.  \n",
    "Считайте, self.diff будет принимать значение True только при возврате значения курса.  \n",
    "При отображении всей информации о валюте он не используется.  "
   ]
  },
  {
   "cell_type": "code",
   "execution_count": 2,
   "metadata": {},
   "outputs": [],
   "source": [
    "import requests"
   ]
  },
  {
   "cell_type": "code",
   "execution_count": 99,
   "metadata": {},
   "outputs": [],
   "source": [
    "class Rate:\n",
    "    def __init__(self, format_='value', diff=True):\n",
    "        self.diff = diff\n",
    "        self.format = format_\n",
    "        \n",
    "    def return_valute(self):\n",
    "        self.r = requests.get('https://www.cbr-xml-daily.ru/daily_json.js')\n",
    "        return self.r.json()['Valute']\n",
    "    \n",
    "    def max_exchange(self):\n",
    "        r = self.return_valute()\n",
    "        name = ''\n",
    "        value = 0\n",
    "        for i in r.keys(): \n",
    "            if r[i]['Value'] > value:\n",
    "                name = r[i]['Name']\n",
    "                value = r[i]['Value']\n",
    "        return name\n",
    "        \"\"\"data_dict = r.json()['Valute']\n",
    "           max(data_dict.items(), key=lambda x: x[1]['Value'])[1]['Name']\"\"\"\n",
    "    def make_format(self, currency):\n",
    "        r = self.return_valute()\n",
    "        if currency in r:\n",
    "            if self.format == 'full' and self.diff == False: \n",
    "                return r[currency]\n",
    "            if self.format == 'value' and self.diff == False:\n",
    "                return r[currency]['Value']\n",
    "            if self.diff == True:\n",
    "                return r[currency]['Value'] - r[currency]['Previous']\n",
    "        return 'Error'\n",
    "    \n",
    "    def eur(self):\n",
    "        \"\"\"Возращает курс евро в формате self.format\"\"\"\n",
    "        return self.make_format('EUR')"
   ]
  },
  {
   "cell_type": "code",
   "execution_count": 103,
   "metadata": {},
   "outputs": [],
   "source": [
    "class_ = Rate(format_='value', diff=True)"
   ]
  },
  {
   "cell_type": "code",
   "execution_count": 104,
   "metadata": {},
   "outputs": [
    {
     "data": {
      "text/plain": [
       "'СДР (специальные права заимствования)'"
      ]
     },
     "execution_count": 104,
     "metadata": {},
     "output_type": "execute_result"
    }
   ],
   "source": [
    "class_.max_exchange()"
   ]
  },
  {
   "cell_type": "code",
   "execution_count": 106,
   "metadata": {},
   "outputs": [
    {
     "data": {
      "text/plain": [
       "-0.18970000000000198"
      ]
     },
     "execution_count": 106,
     "metadata": {},
     "output_type": "execute_result"
    }
   ],
   "source": [
    "class_.eur() #Возращает разницу, если значение self.diff=True"
   ]
  },
  {
   "cell_type": "markdown",
   "metadata": {},
   "source": [
    "### Задание 3\n",
    "Напишите класс Designer, который учитывает количество международных премий. Подсказки в коде занятия в разделе “  Домашнее задание задача 3”.  \n",
    "\n",
    "Комментарий по классу Designer такой:  \n",
    "Напишите класс Designer, который учитывает количество международных премий для дизайнеров (из презентации: “  Повышение на 1 грейд за каждые 7 баллов. Получение международной премии – это +2 балла”). Считайте, что при выходе  на работу сотрудник уже имеет две премии и их количество не меняется со стажем (конечно если хотите это можно   вручную менять).  \n",
    "\n",
    "Класс Designer пишется по аналогии с классом Developer из материалов занятия. Комментарий про его условия Вика   написала выше: “Повышение на 1 грейд за каждые 7 баллов. Получение международной премии – это +2 балла”  "
   ]
  },
  {
   "cell_type": "code",
   "execution_count": 21,
   "metadata": {},
   "outputs": [],
   "source": [
    "class Employee:\n",
    "    def __init__(self, name, prize):\n",
    "        self.name = name\n",
    "        self.prize = prize\n",
    "        self.grade = 1\n",
    "        \n",
    "    def grade_up(self):\n",
    "        \"\"\"Повышает уровень сотрудника\"\"\"\n",
    "        self.grade += 1\n",
    "    \n",
    "    def publish_grade(self):\n",
    "        \"\"\"Публикация результатов\"\"\"\n",
    "        print(self.name, self.grade)\n",
    "        \n",
    "    def check_it(self):\n",
    "        pass"
   ]
  },
  {
   "cell_type": "code",
   "execution_count": 22,
   "metadata": {},
   "outputs": [],
   "source": [
    "class Designer(Employee):\n",
    "    def __init__(self, name, prize):\n",
    "        super().__init__(name, prize)\n",
    "    \n",
    "    def promotion_empl(self):\n",
    "        self.prize += 2\n",
    "        \n",
    "        if self.prize % 7 == 0:\n",
    "            self.grade_up()\n",
    "            \n",
    "        return self.publish_grade"
   ]
  },
  {
   "cell_type": "code",
   "execution_count": 23,
   "metadata": {},
   "outputs": [],
   "source": [
    "alex = Designer('Александр', 4)"
   ]
  },
  {
   "cell_type": "code",
   "execution_count": 26,
   "metadata": {},
   "outputs": [],
   "source": [
    "for i in range(20):\n",
    "    alex.promotion_empl()"
   ]
  },
  {
   "cell_type": "code",
   "execution_count": 27,
   "metadata": {},
   "outputs": [
    {
     "data": {
      "text/plain": [
       "4"
      ]
     },
     "execution_count": 27,
     "metadata": {},
     "output_type": "execute_result"
    }
   ],
   "source": [
    "alex.grade"
   ]
  },
  {
   "cell_type": "code",
   "execution_count": null,
   "metadata": {},
   "outputs": [],
   "source": []
  }
 ],
 "metadata": {
  "kernelspec": {
   "display_name": "Python 3",
   "language": "python",
   "name": "python3"
  },
  "language_info": {
   "codemirror_mode": {
    "name": "ipython",
    "version": 3
   },
   "file_extension": ".py",
   "mimetype": "text/x-python",
   "name": "python",
   "nbconvert_exporter": "python",
   "pygments_lexer": "ipython3",
   "version": "3.7.3"
  }
 },
 "nbformat": 4,
 "nbformat_minor": 2
}
