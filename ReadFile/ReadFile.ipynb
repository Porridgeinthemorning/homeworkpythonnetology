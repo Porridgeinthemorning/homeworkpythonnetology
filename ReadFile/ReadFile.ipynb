{
 "cells": [
  {
   "cell_type": "markdown",
   "metadata": {},
   "source": [
    "### Задание №1\n",
    "Переведите содержимое файла purchase_log.txt в словарь purchases вида:  \n",
    "{‘1840e0b9d4’: ‘Продукты’, …}"
   ]
  },
  {
   "cell_type": "code",
   "execution_count": 55,
   "metadata": {},
   "outputs": [],
   "source": [
    "import json"
   ]
  },
  {
   "cell_type": "code",
   "execution_count": 79,
   "metadata": {},
   "outputs": [],
   "source": [
    "purchase = open('purchase_log.txt', 'r')\n",
    "purchases = {}\n",
    "for line in purchase:\n",
    "    purchases[json.loads(line.strip())['user_id']] = json.loads(line.strip())['category']\n",
    "purchase.close()"
   ]
  },
  {
   "cell_type": "code",
   "execution_count": 89,
   "metadata": {},
   "outputs": [
    {
     "name": "stdout",
     "output_type": "stream",
     "text": [
      "('user_id', 'category')\n",
      "('1840e0b9d4', 'Продукты')\n",
      "('4e4f90fcfb', 'Электроника')\n",
      "('afea8d72fc', 'Электроника')\n",
      "('373a6055fe', 'Бытовая техника')\n",
      "('9b2ab046f3', 'Электроника')\n",
      "('9f39d307c3', 'Электроника')\n",
      "('44edeffc91', 'Продукты')\n",
      "('704474fa2d', 'Продукты')\n",
      "('1de31be403', 'Бытовая техника')\n"
     ]
    }
   ],
   "source": [
    "for e, line in enumerate(purchases.items()):\n",
    "    if e < 10:\n",
    "        print(line)"
   ]
  },
  {
   "cell_type": "markdown",
   "metadata": {},
   "source": [
    "### Задание 2\n",
    "Для каждого user_id в файле visit_log.csv определите третий столбец с категорией покупки (если покупка была, сам файл visit_log.csv изменять не надо).  \n",
    "Запишите в файл funnel.csv визиты из файла visit_log.csv, в которых были покупки с указанием категории.   \n",
    "Учтите условия на данные:  \n",
    "содержимое purchase_log.txt помещается в оперативную память компьютера  \n",
    "содержимое visit_log.csv - нет; используйте только построчную обработку этого файла  "
   ]
  },
  {
   "cell_type": "code",
   "execution_count": 2,
   "metadata": {},
   "outputs": [],
   "source": [
    "import pandas as pd\n",
    "import json"
   ]
  },
  {
   "cell_type": "markdown",
   "metadata": {},
   "source": [
    "### Удобный вариант и быстрый"
   ]
  },
  {
   "cell_type": "code",
   "execution_count": 39,
   "metadata": {},
   "outputs": [],
   "source": [
    "purchase = open('purchase_log.txt', 'r').readlines() #помещается в оперативную память компьютера\n",
    "dict_purchases = {}\n",
    "for line in purchase:\n",
    "    dict_purchases[json.loads(line.strip())['user_id']] = json.loads(line.strip())['category']\n",
    "dict_purchases = sorted(dict_purchases.items())\n",
    "dict_purchases = pd.DataFrame(dict_purchases)"
   ]
  },
  {
   "cell_type": "code",
   "execution_count": 40,
   "metadata": {},
   "outputs": [],
   "source": [
    "dict_visit = {}\n",
    "with open('visit_log.csv', 'r') as visit_log: #считывает по-строчно\n",
    "    for line in visit_log:\n",
    "        dict_visit[line.strip().split(',')[0]] = line.strip().split(',')[1]\n",
    "dict_visit = sorted(dict_visit.items())\n",
    "dict_visit = pd.DataFrame(dict_visit)"
   ]
  },
  {
   "cell_type": "code",
   "execution_count": 41,
   "metadata": {},
   "outputs": [],
   "source": [
    "df = dict_visit.merge(dict_purchases, how = 'inner', right_on = 0, left_on = 0)\n",
    "df.rename(columns = {0:'user_id', '1_x':'source', '1_y':'category'}, inplace = True)\n",
    "df.to_csv('funnel.csv', index = False)"
   ]
  },
  {
   "cell_type": "code",
   "execution_count": 45,
   "metadata": {},
   "outputs": [
    {
     "data": {
      "text/html": [
       "<div>\n",
       "<style scoped>\n",
       "    .dataframe tbody tr th:only-of-type {\n",
       "        vertical-align: middle;\n",
       "    }\n",
       "\n",
       "    .dataframe tbody tr th {\n",
       "        vertical-align: top;\n",
       "    }\n",
       "\n",
       "    .dataframe thead th {\n",
       "        text-align: right;\n",
       "    }\n",
       "</style>\n",
       "<table border=\"1\" class=\"dataframe\">\n",
       "  <thead>\n",
       "    <tr style=\"text-align: right;\">\n",
       "      <th></th>\n",
       "      <th>user_id</th>\n",
       "      <th>source</th>\n",
       "      <th>category</th>\n",
       "    </tr>\n",
       "  </thead>\n",
       "  <tbody>\n",
       "    <tr>\n",
       "      <th>0</th>\n",
       "      <td>0002983af3</td>\n",
       "      <td>other</td>\n",
       "      <td>Электроника</td>\n",
       "    </tr>\n",
       "    <tr>\n",
       "      <th>1</th>\n",
       "      <td>0002b641bc</td>\n",
       "      <td>other</td>\n",
       "      <td>Бытовая техника</td>\n",
       "    </tr>\n",
       "    <tr>\n",
       "      <th>2</th>\n",
       "      <td>0009df2bdb</td>\n",
       "      <td>context</td>\n",
       "      <td>Товары для животных</td>\n",
       "    </tr>\n",
       "    <tr>\n",
       "      <th>3</th>\n",
       "      <td>000ac082d1</td>\n",
       "      <td>other</td>\n",
       "      <td>Продукты</td>\n",
       "    </tr>\n",
       "    <tr>\n",
       "      <th>4</th>\n",
       "      <td>000bf1e32a</td>\n",
       "      <td>other</td>\n",
       "      <td>Бытовая техника</td>\n",
       "    </tr>\n",
       "  </tbody>\n",
       "</table>\n",
       "</div>"
      ],
      "text/plain": [
       "      user_id   source             category\n",
       "0  0002983af3    other          Электроника\n",
       "1  0002b641bc    other      Бытовая техника\n",
       "2  0009df2bdb  context  Товары для животных\n",
       "3  000ac082d1    other             Продукты\n",
       "4  000bf1e32a    other      Бытовая техника"
      ]
     },
     "execution_count": 45,
     "metadata": {},
     "output_type": "execute_result"
    }
   ],
   "source": [
    "pd.read_csv('funnel.csv').head(5)"
   ]
  },
  {
   "cell_type": "markdown",
   "metadata": {},
   "source": [
    "### Альтернативный вариант и очень долгий"
   ]
  },
  {
   "cell_type": "code",
   "execution_count": 18,
   "metadata": {},
   "outputs": [],
   "source": [
    "purchase = open('purchase_log.txt', 'r').readlines() #помещается в оперативную память компьютера\n",
    "dict_purchases = {}\n",
    "for line in purchase:\n",
    "    dict_purchases[json.loads(line.strip())['user_id']] = json.loads(line.strip())['category']\n",
    "dict_purchases = sorted(dict_purchases.items(), reverse=True)"
   ]
  },
  {
   "cell_type": "code",
   "execution_count": 19,
   "metadata": {},
   "outputs": [],
   "source": [
    "dict_visit = {}\n",
    "with open('visit_log.csv', 'r') as visit_log: #считывает по-строчно\n",
    "    for line in visit_log:\n",
    "        dict_visit[line.strip().split(',')[0]] = line.strip().split(',')[1]\n",
    "dict_visit = sorted(dict_visit.items(), reverse=True)"
   ]
  },
  {
   "cell_type": "code",
   "execution_count": 51,
   "metadata": {},
   "outputs": [],
   "source": [
    "with open('funnel_1.csv', 'w') as infotowrite:\n",
    "    for i in range(len(dict_purchases)):\n",
    "        if i < 1000:\n",
    "            for j in range(len(dict_visit)):\n",
    "                if dict_purchases[i][0] == dict_visit[j][0]:\n",
    "                    infotowrite.write(str(str(dict_visit[j][0]) + ',' + str(dict_visit[j][1]) + ',' + str(dict_purchases[i][1])) + '\\n') \n",
    "        else:\n",
    "            break\n",
    "infotowrite.close()        "
   ]
  },
  {
   "cell_type": "code",
   "execution_count": 53,
   "metadata": {},
   "outputs": [
    {
     "data": {
      "text/html": [
       "<div>\n",
       "<style scoped>\n",
       "    .dataframe tbody tr th:only-of-type {\n",
       "        vertical-align: middle;\n",
       "    }\n",
       "\n",
       "    .dataframe tbody tr th {\n",
       "        vertical-align: top;\n",
       "    }\n",
       "\n",
       "    .dataframe thead th {\n",
       "        text-align: right;\n",
       "    }\n",
       "</style>\n",
       "<table border=\"1\" class=\"dataframe\">\n",
       "  <thead>\n",
       "    <tr style=\"text-align: right;\">\n",
       "      <th></th>\n",
       "      <th>user_id</th>\n",
       "      <th>source</th>\n",
       "      <th>category</th>\n",
       "    </tr>\n",
       "  </thead>\n",
       "  <tbody>\n",
       "    <tr>\n",
       "      <th>0</th>\n",
       "      <td>fffadf9b1a</td>\n",
       "      <td>context</td>\n",
       "      <td>Электроника</td>\n",
       "    </tr>\n",
       "    <tr>\n",
       "      <th>1</th>\n",
       "      <td>fff7021b40</td>\n",
       "      <td>other</td>\n",
       "      <td>Бытовая техника</td>\n",
       "    </tr>\n",
       "    <tr>\n",
       "      <th>2</th>\n",
       "      <td>fff653d5f3</td>\n",
       "      <td>other</td>\n",
       "      <td>Продукты</td>\n",
       "    </tr>\n",
       "    <tr>\n",
       "      <th>3</th>\n",
       "      <td>fff5c39408</td>\n",
       "      <td>other</td>\n",
       "      <td>Электроника</td>\n",
       "    </tr>\n",
       "    <tr>\n",
       "      <th>4</th>\n",
       "      <td>fff0740e99</td>\n",
       "      <td>other</td>\n",
       "      <td>Строительство и ремонт</td>\n",
       "    </tr>\n",
       "  </tbody>\n",
       "</table>\n",
       "</div>"
      ],
      "text/plain": [
       "      user_id   source                category\n",
       "0  fffadf9b1a  context             Электроника\n",
       "1  fff7021b40    other         Бытовая техника\n",
       "2  fff653d5f3    other                Продукты\n",
       "3  fff5c39408    other             Электроника\n",
       "4  fff0740e99    other  Строительство и ремонт"
      ]
     },
     "execution_count": 53,
     "metadata": {},
     "output_type": "execute_result"
    }
   ],
   "source": [
    "pd.read_csv('funnel_1.csv').head(5)"
   ]
  },
  {
   "cell_type": "code",
   "execution_count": null,
   "metadata": {},
   "outputs": [],
   "source": []
  }
 ],
 "metadata": {
  "kernelspec": {
   "display_name": "Python 3",
   "language": "python",
   "name": "python3"
  },
  "language_info": {
   "codemirror_mode": {
    "name": "ipython",
    "version": 3
   },
   "file_extension": ".py",
   "mimetype": "text/x-python",
   "name": "python",
   "nbconvert_exporter": "python",
   "pygments_lexer": "ipython3",
   "version": "3.7.3"
  }
 },
 "nbformat": 4,
 "nbformat_minor": 2
}
