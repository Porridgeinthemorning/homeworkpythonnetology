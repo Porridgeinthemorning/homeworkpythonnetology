{
 "cells": [
  {
   "cell_type": "markdown",
   "metadata": {},
   "source": [
    "### Домашнее задание к лекции \"Функции\"\n",
    "Сожержание дз можно изучить здесь https://github.com/obulygin/pyda_homeworks/tree/master/functions\n",
    "\n",
    "Вам нужно помочь секретарю автоматизировать работу. Для этого нужно написать программу, которая будет на основе хранимых данных исполнять пользовательские команды.\n",
    "\n",
    "Исходные данные имеют следующую структуру:\n",
    "\n",
    "1. перечень всех документов\n",
    "\n",
    "documents = [\n",
    "{‘type’: ‘passport’, ‘number’: ‘2207 876234’, ‘name’: ‘Василий Гупкин’},  \n",
    "{‘type’: ‘invoice’, ‘number’: ‘11-2’, ‘name’: ‘Геннадий Покемонов’},  \n",
    "{‘type’: ‘insurance’, ‘number’: ‘10006’, ‘name’: ‘Аристарх Павлов’}\n",
    "]\n",
    "\n",
    "2.перечень полок, на которых хранятся документы (если документ есть в documents, то он обязательно должен быть и в directories)\n",
    "\n",
    "directories = {\n",
    "‘1’: [‘2207 876234’, ‘11-2’],\n",
    "‘2’: [‘10006’],\n",
    "‘3’: []\n",
    "}\n",
    "\n",
    "Общие требования к программе:\n",
    "\n",
    "код должен быть грамотно декомпозирован (каждая функция отвечает за свою конкретную задачу, дублирующийся функционал переиспользуется, а его код не повторяется);  \n",
    "в коде отсутствуют глобальные переменные (за исключением documents и directories);  \n",
    "пользовательский ввод обрабатывается в цикле while до тех пор, пока пользователь явно не завершит программу (вводом команды “q”)."
   ]
  },
  {
   "cell_type": "code",
   "execution_count": 1,
   "metadata": {},
   "outputs": [],
   "source": [
    "documents = [{'type': 'passport', 'number': '2207 876234', 'name': 'Василий Гупкин'},\n",
    "             {'type': 'invoice', 'number': '11-2', 'name': 'Геннадий Покемонов'}, \n",
    "             {'type': 'insurance', 'number': '10006', 'name': 'Аристарх Павлов'}]\n",
    "directories = {'1': ['2207 876234', '11-2'], '2': ['10006'], '3': []}"
   ]
  },
  {
   "cell_type": "markdown",
   "metadata": {},
   "source": [
    "### Задание 1\n",
    "##### Пункт 1. Пользователь по команде “p” может узнать владельца документа по его номеру\n",
    "Примеры работы:\n",
    "\n",
    "Введите команду:\n",
    "p\n",
    "\n",
    "Введите номер документа:\n",
    "10006\n",
    "\n",
    "Результат:\n",
    "Владелец документа: Аристарх Павлов\n",
    "\n",
    "Введите команду:\n",
    "p\n",
    "\n",
    "Введите номер документа:\n",
    "12345\n",
    "\n",
    "Результат:\n",
    "Документ не найден в базе"
   ]
  },
  {
   "cell_type": "code",
   "execution_count": 142,
   "metadata": {},
   "outputs": [],
   "source": [
    "def search_number_name(number_doc):\n",
    "    compare = 0\n",
    "    for i in range(len(documents)):\n",
    "        if documents[i]['number'] == number_doc:\n",
    "            compare = documents[i]['number']\n",
    "            break\n",
    "    if compare != 0:\n",
    "        print('Владелец документа: ' + str(documents[i]['name']))\n",
    "        #return 'Владелец документа: ' + str(documents[i]['name'])\n",
    "    else:\n",
    "        print('Документ не найден в базе')"
   ]
  },
  {
   "cell_type": "markdown",
   "metadata": {},
   "source": [
    "#### Пункт 2. Пользователь по команде “s” может по номеру документа узнать на какой полке он хранится\n",
    "Примеры работы:\n",
    "\n",
    "Введите команду:\n",
    "s\n",
    "\n",
    "Введите номер документа:\n",
    "10006\n",
    "\n",
    "Результат:\n",
    "Документ хранится на полке: 2\n",
    "\n",
    "Введите команду:\n",
    "p\n",
    "\n",
    "Введите номер документа:\n",
    "12345\n",
    "\n",
    "Результат:\n",
    "Документ не найден в базе"
   ]
  },
  {
   "cell_type": "code",
   "execution_count": 86,
   "metadata": {},
   "outputs": [],
   "source": [
    "def search_number_shelf(number_doc):\n",
    "    compare = 0\n",
    "    for i in directories.keys():\n",
    "        for j in directories[i]:\n",
    "            if j == number_doc:\n",
    "                compare = i\n",
    "                break\n",
    "    if compare != 0:\n",
    "        print('Документ хранится на полке: ' + str(compare))\n",
    "    else:\n",
    "        print('Документ не найден в базе')"
   ]
  },
  {
   "cell_type": "markdown",
   "metadata": {},
   "source": [
    "#### Пункт 3. Пользователь по команде “l” может увидеть полную информацию по всем документам\n",
    "Пример работы:\n",
    "\n",
    "Введите команду:\n",
    "l  \n",
    "\n",
    "Результат:  \n",
    "№: 2207 876234, тип: passport, владелец: Василий Гупкин, полка хранения: 1  \n",
    "№: 11-2, тип: invoice, владелец: Геннадий Покемонов, полка хранения: 1  \n",
    "№: 10006, тип: insurance, владелец: Аристарх Павлов, полка хранения: 2  \n"
   ]
  },
  {
   "cell_type": "code",
   "execution_count": 145,
   "metadata": {},
   "outputs": [],
   "source": [
    "documents = [{'type': 'passport', 'number': '2207 876234', 'name': 'Василий Гупкин'},\n",
    "             {'type': 'invoice', 'number': '11-2', 'name': 'Геннадий Покемонов'}, \n",
    "             {'type': 'insurance', 'number': '10006', 'name': 'Аристарх Павлов'}]\n",
    "directories = {'1': ['2207 876234', '11-2'], '2': ['10006'], '3': []}"
   ]
  },
  {
   "cell_type": "code",
   "execution_count": 147,
   "metadata": {},
   "outputs": [],
   "source": [
    "def all_information():\n",
    "    for i in range(len(documents)):\n",
    "        for j in directories.keys():\n",
    "            for n in directories[j]:\n",
    "                if n == documents[i]['number']:\n",
    "                    print('№: ' + documents[i]['number'] + ', ' + \n",
    "                          'тип: ' + documents[i]['type'] + ', ' + \n",
    "                          'владелец: ' + documents[i]['name'] + ', ' + \n",
    "                          'полка хранения: ' + j)\n",
    "    "
   ]
  },
  {
   "cell_type": "markdown",
   "metadata": {},
   "source": [
    "#### Пункт 4. Пользователь по команде “as” может добавить новую полку\n",
    "Примеры работы:\n",
    "\n",
    "Введите команду:\n",
    "as  \n",
    "Введите номер полки:\n",
    "10  \n",
    "Результат:\n",
    "Полка добавлена. Текущий перечень полок: 1, 2, 3, 10.\n",
    "\n",
    "Введите команду:\n",
    "as  \n",
    "Введите номер полки:\n",
    "1  \n",
    "Результат:\n",
    "Такая полка уже существует. Текущий перечень полок: 1, 2, 3."
   ]
  },
  {
   "cell_type": "code",
   "execution_count": 193,
   "metadata": {},
   "outputs": [],
   "source": [
    "def add_shelf(number_shelf):\n",
    "    if number_shelf in directories.keys():\n",
    "        print('Такая полка уже существует. Текущий перечень полок: ' + str(', '.join(directories.keys())))\n",
    "    elif number_shelf not in directories.keys():\n",
    "        directories[number_shelf] = ''\n",
    "        print('Полка добавлена. Текущий перечень полок: ' + str(', '.join(directories.keys())))"
   ]
  },
  {
   "cell_type": "code",
   "execution_count": 182,
   "metadata": {},
   "outputs": [],
   "source": []
  },
  {
   "cell_type": "code",
   "execution_count": 185,
   "metadata": {},
   "outputs": [
    {
     "name": "stdout",
     "output_type": "stream",
     "text": [
      "1, 2, 3\n"
     ]
    }
   ],
   "source": [
    "\n",
    "print(', '.join(directories.keys()))"
   ]
  },
  {
   "cell_type": "code",
   "execution_count": 180,
   "metadata": {},
   "outputs": [
    {
     "ename": "TypeError",
     "evalue": "'str' object cannot be interpreted as an integer",
     "output_type": "error",
     "traceback": [
      "\u001b[0;31m---------------------------------------------------------------------------\u001b[0m",
      "\u001b[0;31mTypeError\u001b[0m                                 Traceback (most recent call last)",
      "\u001b[0;32m<ipython-input-180-6eb860232e99>\u001b[0m in \u001b[0;36m<module>\u001b[0;34m\u001b[0m\n\u001b[0;32m----> 1\u001b[0;31m \u001b[0mshelfs\u001b[0m\u001b[0;34m.\u001b[0m\u001b[0msplit\u001b[0m\u001b[0;34m(\u001b[0m\u001b[0;34m' '\u001b[0m\u001b[0;34m,\u001b[0m \u001b[0;34m', '\u001b[0m \u001b[0;34m)\u001b[0m\u001b[0;34m\u001b[0m\u001b[0;34m\u001b[0m\u001b[0m\n\u001b[0m",
      "\u001b[0;31mTypeError\u001b[0m: 'str' object cannot be interpreted as an integer"
     ]
    }
   ],
   "source": [
    "shelfs.split(' ', ', ' )"
   ]
  },
  {
   "cell_type": "code",
   "execution_count": null,
   "metadata": {},
   "outputs": [],
   "source": []
  },
  {
   "cell_type": "code",
   "execution_count": null,
   "metadata": {},
   "outputs": [],
   "source": []
  },
  {
   "cell_type": "code",
   "execution_count": 194,
   "metadata": {},
   "outputs": [
    {
     "name": "stdout",
     "output_type": "stream",
     "text": [
      "Введите команду: as\n",
      "Введите номер полки: 10\n",
      "Полка добавлена. Текущий перечень полок: 1, 2, 3, 10\n",
      "Введите команду: q\n",
      "Выход их программы\n"
     ]
    }
   ],
   "source": [
    "while True:\n",
    "    command = input('Введите команду: ')\n",
    "    if command == 'q':\n",
    "        print('Выход их программы')\n",
    "        break\n",
    "    elif command == 'p':\n",
    "        number_doc = input('Введите номер документа: ')\n",
    "        search_number_name(number_doc)\n",
    "    elif command == 's':\n",
    "        number_doc = input('Введите номер документа: ')\n",
    "        search_number_shelf(number_doc)\n",
    "    elif command == 'l':\n",
    "        all_information()\n",
    "    elif command == 'as':\n",
    "        number_shelf = input('Введите номер полки: ')\n",
    "        add_shelf(number_shelf)"
   ]
  },
  {
   "cell_type": "code",
   "execution_count": null,
   "metadata": {},
   "outputs": [],
   "source": []
  }
 ],
 "metadata": {
  "kernelspec": {
   "display_name": "Python 3",
   "language": "python",
   "name": "python3"
  },
  "language_info": {
   "codemirror_mode": {
    "name": "ipython",
    "version": 3
   },
   "file_extension": ".py",
   "mimetype": "text/x-python",
   "name": "python",
   "nbconvert_exporter": "python",
   "pygments_lexer": "ipython3",
   "version": "3.7.3"
  }
 },
 "nbformat": 4,
 "nbformat_minor": 2
}
