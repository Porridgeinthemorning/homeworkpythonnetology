{
 "cells": [
  {
   "cell_type": "code",
   "execution_count": 244,
   "metadata": {},
   "outputs": [],
   "source": [
    "import requests\n",
    "from bs4 import BeautifulSoup\n",
    "import pandas as pd"
   ]
  },
  {
   "cell_type": "markdown",
   "metadata": {},
   "source": [
    "### Задание 1.\n",
    "Обязательная часть  \n",
    "Будем парсить страницу со свежеми новостям на habr.com/ru/all/.  \n",
    "Вам необходимо собирать только те статьи, в которых встречается хотя бы одно требуемое ключевое слово.  \n",
    "Эти слова определяем в начале кода в переменной, например:  \n",
    "KEYWORDS = ['python', 'парсинг']  \n",
    "\n",
    "Поиск вести по всей доступной preview-информации (это информация, доступная непосредственно с текущей страницы).  \n",
    "В итоге должен формироваться датафрейм вида  <дата> - <заголовок> - <ссылка>  "
   ]
  },
  {
   "cell_type": "code",
   "execution_count": 237,
   "metadata": {},
   "outputs": [],
   "source": [
    "KEYWORDS = ['python', 'парсинг']"
   ]
  },
  {
   "cell_type": "code",
   "execution_count": 238,
   "metadata": {},
   "outputs": [],
   "source": [
    "res = requests.get('http://habr.com/ru/all/')\n",
    "res_soup = BeautifulSoup(res.text, 'html.parser')"
   ]
  },
  {
   "cell_type": "code",
   "execution_count": 239,
   "metadata": {},
   "outputs": [],
   "source": [
    "#данные со страницы с постами\n",
    "page = res_soup.find_all('div', class_='posts_list')"
   ]
  },
  {
   "cell_type": "code",
   "execution_count": 240,
   "metadata": {},
   "outputs": [
    {
     "data": {
      "text/plain": [
       "'сегодня в 18:05'"
      ]
     },
     "execution_count": 240,
     "metadata": {},
     "output_type": "execute_result"
    }
   ],
   "source": [
    "# получим данные по времени поста\n",
    "date = list(map(lambda x: x.find_all('span', class_='post__time'), page))\n",
    "#date = res_soup.findAll('span', {'class': 'post__time'}) еще вариант решения\n",
    "date[0][0].get_text()"
   ]
  },
  {
   "cell_type": "code",
   "execution_count": 144,
   "metadata": {},
   "outputs": [
    {
     "data": {
      "text/plain": [
       "'Приглашаем на DINS JS EVENING: разбираем Chrome DevTools и Cypress'"
      ]
     },
     "execution_count": 144,
     "metadata": {},
     "output_type": "execute_result"
    }
   ],
   "source": [
    "#получим данные по заголовку поста\n",
    "lable = list(map(lambda x: x.find_all('h2', class_='post__title'), page))\n",
    "lable[0][0].get_text().replace('\\n', '')"
   ]
  },
  {
   "cell_type": "code",
   "execution_count": 272,
   "metadata": {},
   "outputs": [
    {
     "data": {
      "text/plain": [
       "'https://habr.com/ru/company/dins/blog/537534/'"
      ]
     },
     "execution_count": 272,
     "metadata": {},
     "output_type": "execute_result"
    }
   ],
   "source": [
    "#получим ссылку постов\n",
    "link = list(map(lambda x: x.find('a').get('href'), lable[0]))\n",
    "link[0]"
   ]
  },
  {
   "cell_type": "markdown",
   "metadata": {},
   "source": [
    "\n",
    "Дополнительная часть (необязательная)  \n",
    "Улучшить скрипт так, чтобы он анализировал не только preview-информацию статьи, но и весь текст статьи целиком.  \n",
    "Для этого потребуется получать страницы статей и искать по тексту внутри этой страницы.  \n",
    "Итоговый датафрейм формировать со столбцами: <дата> - <заголовок> - <ссылка> - <текст_статьи>  "
   ]
  },
  {
   "cell_type": "code",
   "execution_count": 416,
   "metadata": {},
   "outputs": [],
   "source": [
    "res_text = requests.get('https://habr.com/ru/company/skillfactory/blog/537522/')\n",
    "res_soup_text = BeautifulSoup(res_text.text, 'html.parser')"
   ]
  },
  {
   "cell_type": "code",
   "execution_count": 514,
   "metadata": {},
   "outputs": [],
   "source": [
    "#получим данные их блока с текстом\n",
    "text = res_soup_text.find_all('div', class_='post__text post__text-html post__text_v1')"
   ]
  },
  {
   "cell_type": "code",
   "execution_count": 515,
   "metadata": {},
   "outputs": [],
   "source": [
    "def get_info_from_hubr(res):\n",
    "    df = pd.DataFrame(columns=['date', 'lable', 'link', 'text'])\n",
    "    date_ = []\n",
    "    lable_ = []\n",
    "    link_ = []\n",
    "    text_ = []\n",
    "    res_soup = BeautifulSoup(res.text, 'html.parser')\n",
    "    #данные со страницы с постами\n",
    "    page = res_soup.find_all('div', class_='posts_list')\n",
    "    \n",
    "    # получим данные по времени поста\n",
    "    date = list(map(lambda x: x.find_all('span', class_='post__time'), page))\n",
    "    for i in date[0]:\n",
    "        date_.append(i.get_text())\n",
    "    df['date'] = date_\n",
    "    \n",
    "    #получим данные по заголовку поста\n",
    "    lable = list(map(lambda x: x.find_all('h2', class_='post__title'), page))\n",
    "    for i in lable[0]:\n",
    "        lable_.append(i.get_text().replace('\\n', ''))\n",
    "    df['lable'] = lable_\n",
    "    \n",
    "    #получим ссылку постов\n",
    "    link = list(map(lambda x: x.find('a').get('href'), lable[0]))\n",
    "    for i in link:\n",
    "        link_.append(i)\n",
    "    df['link'] = link_\n",
    "    \n",
    "    for i in link:\n",
    "        link_.append(i)\n",
    "    for i in link:\n",
    "        res_text = requests.get(i)\n",
    "        res_soup_text = BeautifulSoup(res_text.text, 'html.parser')\n",
    "        #получим данные их блока с текстом\n",
    "        text = res_soup_text.find_all('div', class_='post__text post__text-html post__text_v1')\n",
    "        if text == []:\n",
    "            text_.append('Nan')\n",
    "        elif text != '':\n",
    "            text = res_soup_text.find_all('div', class_='post__text post__text-html post__text_v1')\n",
    "            text_.append(text[0].get_text())\n",
    "    df['text'] = text_\n",
    "    return df"
   ]
  },
  {
   "cell_type": "code",
   "execution_count": 516,
   "metadata": {},
   "outputs": [
    {
     "data": {
      "text/html": [
       "<div>\n",
       "<style scoped>\n",
       "    .dataframe tbody tr th:only-of-type {\n",
       "        vertical-align: middle;\n",
       "    }\n",
       "\n",
       "    .dataframe tbody tr th {\n",
       "        vertical-align: top;\n",
       "    }\n",
       "\n",
       "    .dataframe thead th {\n",
       "        text-align: right;\n",
       "    }\n",
       "</style>\n",
       "<table border=\"1\" class=\"dataframe\">\n",
       "  <thead>\n",
       "    <tr style=\"text-align: right;\">\n",
       "      <th></th>\n",
       "      <th>date</th>\n",
       "      <th>lable</th>\n",
       "      <th>link</th>\n",
       "      <th>text</th>\n",
       "    </tr>\n",
       "  </thead>\n",
       "  <tbody>\n",
       "    <tr>\n",
       "      <th>0</th>\n",
       "      <td>сегодня в 18:05</td>\n",
       "      <td>Трюки с виртуальной памятью</td>\n",
       "      <td>https://habr.com/ru/company/otus/blog/537568/</td>\n",
       "      <td>Nan</td>\n",
       "    </tr>\n",
       "    <tr>\n",
       "      <th>1</th>\n",
       "      <td>сегодня в 17:18</td>\n",
       "      <td>Разбираем XLNet</td>\n",
       "      <td>https://habr.com/ru/post/536692/</td>\n",
       "      <td>Введение\\nXLNet – новейшая и самая крупная мод...</td>\n",
       "    </tr>\n",
       "    <tr>\n",
       "      <th>2</th>\n",
       "      <td>сегодня в 17:17</td>\n",
       "      <td>Строим надёжную конкурентность с FSP и моделир...</td>\n",
       "      <td>https://habr.com/ru/company/skillfactory/blog/...</td>\n",
       "      <td>Делаем систему параллелизма надёжнее\\r\\nСегодн...</td>\n",
       "    </tr>\n",
       "    <tr>\n",
       "      <th>3</th>\n",
       "      <td>сегодня в 16:59</td>\n",
       "      <td>Истории основателей: Грейс Гэри, основательниц...</td>\n",
       "      <td>https://habr.com/ru/post/535994/</td>\n",
       "      <td>\\n\\r\\nWatsi — это некоммерческая организация, ...</td>\n",
       "    </tr>\n",
       "    <tr>\n",
       "      <th>4</th>\n",
       "      <td>сегодня в 16:47</td>\n",
       "      <td>Архитектура и программирование микрокалькулято...</td>\n",
       "      <td>https://habr.com/ru/post/537558/</td>\n",
       "      <td>\"...Often you need to execute a synthetic two-...</td>\n",
       "    </tr>\n",
       "    <tr>\n",
       "      <th>5</th>\n",
       "      <td>сегодня в 16:40</td>\n",
       "      <td>Возможности настройки привилегии и безопасност...</td>\n",
       "      <td>https://habr.com/ru/company/infowatch/blog/537...</td>\n",
       "      <td>\\n\\r\\nДавным-давно, когда трава была зеленее, ...</td>\n",
       "    </tr>\n",
       "    <tr>\n",
       "      <th>6</th>\n",
       "      <td>сегодня в 16:39</td>\n",
       "      <td>Создание Dockers в Corel Draw</td>\n",
       "      <td>https://habr.com/ru/post/537556/</td>\n",
       "      <td>Nan</td>\n",
       "    </tr>\n",
       "    <tr>\n",
       "      <th>7</th>\n",
       "      <td>сегодня в 16:35</td>\n",
       "      <td>На ком лежит ответственность за качество прогр...</td>\n",
       "      <td>https://habr.com/ru/company/otus/blog/537554/</td>\n",
       "      <td>Nan</td>\n",
       "    </tr>\n",
       "    <tr>\n",
       "      <th>8</th>\n",
       "      <td>сегодня в 16:29</td>\n",
       "      <td>Камера iPhone 12 Pro Max: Разбор</td>\n",
       "      <td>https://habr.com/ru/company/droider/blog/531740/</td>\n",
       "      <td>Поговорим про iPhone 12 Pro Max. В этом году в...</td>\n",
       "    </tr>\n",
       "    <tr>\n",
       "      <th>9</th>\n",
       "      <td>сегодня в 16:26</td>\n",
       "      <td>Rust crashcourse. Правило трёх — параметры, ит...</td>\n",
       "      <td>https://habr.com/ru/post/537546/</td>\n",
       "      <td>Ниже представлен перевод одной из частей серии...</td>\n",
       "    </tr>\n",
       "    <tr>\n",
       "      <th>10</th>\n",
       "      <td>сегодня в 16:15</td>\n",
       "      <td>Приглашаем на DINS JS EVENING: разбираем Chrom...</td>\n",
       "      <td>https://habr.com/ru/company/dins/blog/537534/</td>\n",
       "      <td>Nan</td>\n",
       "    </tr>\n",
       "    <tr>\n",
       "      <th>11</th>\n",
       "      <td>сегодня в 16:13</td>\n",
       "      <td>Sci-Hub теперь находится в «нецензурируемой» сети</td>\n",
       "      <td>https://habr.com/ru/company/cloud4y/blog/537548/</td>\n",
       "      <td>Nan</td>\n",
       "    </tr>\n",
       "    <tr>\n",
       "      <th>12</th>\n",
       "      <td>сегодня в 16:05</td>\n",
       "      <td>Браузер для удалёнки — своя версия</td>\n",
       "      <td>https://habr.com/ru/company/vivaldi/blog/537542/</td>\n",
       "      <td>\\n\\r\\nПривет, Хабр!\\n\\r\\nПрошедший год был пол...</td>\n",
       "    </tr>\n",
       "    <tr>\n",
       "      <th>13</th>\n",
       "      <td>сегодня в 15:54</td>\n",
       "      <td>Человек, который связывает большие информацион...</td>\n",
       "      <td>https://habr.com/ru/company/itelma/blog/537262/</td>\n",
       "      <td>Уэс МакКинни, о котором писали в Quartz как о...</td>\n",
       "    </tr>\n",
       "    <tr>\n",
       "      <th>14</th>\n",
       "      <td>сегодня в 15:53</td>\n",
       "      <td>После столетий поисков получено точное решение...</td>\n",
       "      <td>https://habr.com/ru/post/537532/</td>\n",
       "      <td>Математики с давних времён пытались решить зад...</td>\n",
       "    </tr>\n",
       "    <tr>\n",
       "      <th>15</th>\n",
       "      <td>сегодня в 15:36</td>\n",
       "      <td>Сервер Prometheus и TLS</td>\n",
       "      <td>https://habr.com/ru/company/southbridge/blog/5...</td>\n",
       "      <td>\\nPrometheus теперь поддерживает TLS и базовую...</td>\n",
       "    </tr>\n",
       "    <tr>\n",
       "      <th>16</th>\n",
       "      <td>сегодня в 15:10</td>\n",
       "      <td>Scala 3: избавление от implicit. Extension-мет...</td>\n",
       "      <td>https://habr.com/ru/post/537340/</td>\n",
       "      <td>\\nЭто моя вторая статья с обзором изменений в ...</td>\n",
       "    </tr>\n",
       "    <tr>\n",
       "      <th>17</th>\n",
       "      <td>сегодня в 15:09</td>\n",
       "      <td>Решение уравнения 4 степени. Феррари vs. ftvme...</td>\n",
       "      <td>https://habr.com/ru/post/537524/</td>\n",
       "      <td>\\n\\r\\nРеакция на опубликованную 12 января 2021...</td>\n",
       "    </tr>\n",
       "    <tr>\n",
       "      <th>18</th>\n",
       "      <td>сегодня в 15:07</td>\n",
       "      <td>Самые востребованные IT-профессии 2021 года</td>\n",
       "      <td>https://habr.com/ru/company/skillfactory/blog/...</td>\n",
       "      <td>Привет, Хабр! Мы уже долгое время следим за ди...</td>\n",
       "    </tr>\n",
       "    <tr>\n",
       "      <th>19</th>\n",
       "      <td>сегодня в 14:36</td>\n",
       "      <td>Вышел Wine 6.0: что нового?</td>\n",
       "      <td>https://habr.com/ru/company/selectel/blog/537514/</td>\n",
       "      <td>\\r\\nС момента выхода Wine 5.0 прошел целый год...</td>\n",
       "    </tr>\n",
       "  </tbody>\n",
       "</table>\n",
       "</div>"
      ],
      "text/plain": [
       "               date                                              lable  \\\n",
       "0   сегодня в 18:05                        Трюки с виртуальной памятью   \n",
       "1   сегодня в 17:18                                    Разбираем XLNet   \n",
       "2   сегодня в 17:17  Строим надёжную конкурентность с FSP и моделир...   \n",
       "3   сегодня в 16:59  Истории основателей: Грейс Гэри, основательниц...   \n",
       "4   сегодня в 16:47  Архитектура и программирование микрокалькулято...   \n",
       "5   сегодня в 16:40  Возможности настройки привилегии и безопасност...   \n",
       "6   сегодня в 16:39                      Создание Dockers в Corel Draw   \n",
       "7   сегодня в 16:35  На ком лежит ответственность за качество прогр...   \n",
       "8   сегодня в 16:29                   Камера iPhone 12 Pro Max: Разбор   \n",
       "9   сегодня в 16:26  Rust crashcourse. Правило трёх — параметры, ит...   \n",
       "10  сегодня в 16:15  Приглашаем на DINS JS EVENING: разбираем Chrom...   \n",
       "11  сегодня в 16:13  Sci-Hub теперь находится в «нецензурируемой» сети   \n",
       "12  сегодня в 16:05                 Браузер для удалёнки — своя версия   \n",
       "13  сегодня в 15:54  Человек, который связывает большие информацион...   \n",
       "14  сегодня в 15:53  После столетий поисков получено точное решение...   \n",
       "15  сегодня в 15:36                            Сервер Prometheus и TLS   \n",
       "16  сегодня в 15:10  Scala 3: избавление от implicit. Extension-мет...   \n",
       "17  сегодня в 15:09  Решение уравнения 4 степени. Феррари vs. ftvme...   \n",
       "18  сегодня в 15:07        Самые востребованные IT-профессии 2021 года   \n",
       "19  сегодня в 14:36                        Вышел Wine 6.0: что нового?   \n",
       "\n",
       "                                                 link  \\\n",
       "0       https://habr.com/ru/company/otus/blog/537568/   \n",
       "1                    https://habr.com/ru/post/536692/   \n",
       "2   https://habr.com/ru/company/skillfactory/blog/...   \n",
       "3                    https://habr.com/ru/post/535994/   \n",
       "4                    https://habr.com/ru/post/537558/   \n",
       "5   https://habr.com/ru/company/infowatch/blog/537...   \n",
       "6                    https://habr.com/ru/post/537556/   \n",
       "7       https://habr.com/ru/company/otus/blog/537554/   \n",
       "8    https://habr.com/ru/company/droider/blog/531740/   \n",
       "9                    https://habr.com/ru/post/537546/   \n",
       "10      https://habr.com/ru/company/dins/blog/537534/   \n",
       "11   https://habr.com/ru/company/cloud4y/blog/537548/   \n",
       "12   https://habr.com/ru/company/vivaldi/blog/537542/   \n",
       "13    https://habr.com/ru/company/itelma/blog/537262/   \n",
       "14                   https://habr.com/ru/post/537532/   \n",
       "15  https://habr.com/ru/company/southbridge/blog/5...   \n",
       "16                   https://habr.com/ru/post/537340/   \n",
       "17                   https://habr.com/ru/post/537524/   \n",
       "18  https://habr.com/ru/company/skillfactory/blog/...   \n",
       "19  https://habr.com/ru/company/selectel/blog/537514/   \n",
       "\n",
       "                                                 text  \n",
       "0                                                 Nan  \n",
       "1   Введение\\nXLNet – новейшая и самая крупная мод...  \n",
       "2   Делаем систему параллелизма надёжнее\\r\\nСегодн...  \n",
       "3   \\n\\r\\nWatsi — это некоммерческая организация, ...  \n",
       "4   \"...Often you need to execute a synthetic two-...  \n",
       "5   \\n\\r\\nДавным-давно, когда трава была зеленее, ...  \n",
       "6                                                 Nan  \n",
       "7                                                 Nan  \n",
       "8   Поговорим про iPhone 12 Pro Max. В этом году в...  \n",
       "9   Ниже представлен перевод одной из частей серии...  \n",
       "10                                                Nan  \n",
       "11                                                Nan  \n",
       "12  \\n\\r\\nПривет, Хабр!\\n\\r\\nПрошедший год был пол...  \n",
       "13   Уэс МакКинни, о котором писали в Quartz как о...  \n",
       "14  Математики с давних времён пытались решить зад...  \n",
       "15  \\nPrometheus теперь поддерживает TLS и базовую...  \n",
       "16  \\nЭто моя вторая статья с обзором изменений в ...  \n",
       "17  \\n\\r\\nРеакция на опубликованную 12 января 2021...  \n",
       "18  Привет, Хабр! Мы уже долгое время следим за ди...  \n",
       "19  \\r\\nС момента выхода Wine 5.0 прошел целый год...  "
      ]
     },
     "execution_count": 516,
     "metadata": {},
     "output_type": "execute_result"
    }
   ],
   "source": [
    "get_info_from_hubr(res)"
   ]
  },
  {
   "cell_type": "code",
   "execution_count": null,
   "metadata": {},
   "outputs": [],
   "source": []
  }
 ],
 "metadata": {
  "kernelspec": {
   "display_name": "Python 3",
   "language": "python",
   "name": "python3"
  },
  "language_info": {
   "codemirror_mode": {
    "name": "ipython",
    "version": 3
   },
   "file_extension": ".py",
   "mimetype": "text/x-python",
   "name": "python",
   "nbconvert_exporter": "python",
   "pygments_lexer": "ipython3",
   "version": "3.7.3"
  }
 },
 "nbformat": 4,
 "nbformat_minor": 2
}
