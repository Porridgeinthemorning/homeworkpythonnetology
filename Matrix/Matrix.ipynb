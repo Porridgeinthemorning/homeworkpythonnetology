{
 "cells": [
  {
   "cell_type": "markdown",
   "metadata": {},
   "source": [
    "### Уровень 0:\n",
    "* Создайте матрицу 3 на 3, заполненную числами от 1 до 9  \n",
    "* Прибавьте к ней матрицу с единицами на диагонале  \n",
    "* Умножьте полученную матрицу на вектор (1, 2, 3)  \n",
    "* Посчитайте обратную матрицу к полученной матрице  "
   ]
  },
  {
   "cell_type": "code",
   "execution_count": 5,
   "metadata": {},
   "outputs": [],
   "source": [
    "import numpy as np\n",
    "import matplotlib.pyplot as plt"
   ]
  },
  {
   "cell_type": "markdown",
   "metadata": {},
   "source": [
    "###### Создайте матрицу 3 на 3, заполненную числами от 1 до 9"
   ]
  },
  {
   "cell_type": "code",
   "execution_count": 6,
   "metadata": {},
   "outputs": [
    {
     "data": {
      "text/plain": [
       "array([[1, 2, 3],\n",
       "       [4, 5, 6],\n",
       "       [7, 8, 9]])"
      ]
     },
     "execution_count": 6,
     "metadata": {},
     "output_type": "execute_result"
    }
   ],
   "source": [
    "matrix = np.array([[1, 2, 3], [4, 5, 6], [7, 8, 9]]) \n",
    "matrix"
   ]
  },
  {
   "cell_type": "markdown",
   "metadata": {},
   "source": [
    "##### Прибавьте к ней матрицу с единицами на диагонале"
   ]
  },
  {
   "cell_type": "code",
   "execution_count": 7,
   "metadata": {},
   "outputs": [
    {
     "data": {
      "text/plain": [
       "array([[ 2,  2,  3],\n",
       "       [ 4,  6,  6],\n",
       "       [ 7,  8, 10]])"
      ]
     },
     "execution_count": 7,
     "metadata": {},
     "output_type": "execute_result"
    }
   ],
   "source": [
    "matrix_eye = matrix + np.eye(3).astype(int)\n",
    "matrix_eye"
   ]
  },
  {
   "cell_type": "markdown",
   "metadata": {},
   "source": [
    "##### Умножьте полученную матрицу на вектор (1, 2, 3)"
   ]
  },
  {
   "cell_type": "code",
   "execution_count": 8,
   "metadata": {},
   "outputs": [
    {
     "data": {
      "text/plain": [
       "array([[1],\n",
       "       [2],\n",
       "       [3]])"
      ]
     },
     "execution_count": 8,
     "metadata": {},
     "output_type": "execute_result"
    }
   ],
   "source": [
    "vector = np.array([[1], [2], [3]])\n",
    "vector"
   ]
  },
  {
   "cell_type": "code",
   "execution_count": 9,
   "metadata": {},
   "outputs": [
    {
     "data": {
      "text/plain": [
       "array([[15],\n",
       "       [34],\n",
       "       [53]])"
      ]
     },
     "execution_count": 9,
     "metadata": {},
     "output_type": "execute_result"
    }
   ],
   "source": [
    "matrix_vec = matrix_eye.dot(vector)\n",
    "matrix_vec"
   ]
  },
  {
   "cell_type": "markdown",
   "metadata": {},
   "source": [
    "##### Посчитайте обратную матрицу к полученной матрице"
   ]
  },
  {
   "cell_type": "code",
   "execution_count": 10,
   "metadata": {},
   "outputs": [
    {
     "data": {
      "text/plain": [
       "array([[[0.00357995, 0.00811456, 0.01264916]]])"
      ]
     },
     "execution_count": 10,
     "metadata": {},
     "output_type": "execute_result"
    }
   ],
   "source": [
    "matrix_inv = np.linalg.pinv([matrix_vec])\n",
    "matrix_inv"
   ]
  },
  {
   "cell_type": "code",
   "execution_count": 11,
   "metadata": {},
   "outputs": [
    {
     "data": {
      "text/plain": [
       "array([[[1.]]])"
      ]
     },
     "execution_count": 11,
     "metadata": {},
     "output_type": "execute_result"
    }
   ],
   "source": [
    "matrix_inv.dot(matrix_vec)"
   ]
  },
  {
   "cell_type": "markdown",
   "metadata": {},
   "source": [
    "### Уровень 1:\n",
    "Дан объект в 2d пространстве:"
   ]
  },
  {
   "cell_type": "code",
   "execution_count": 288,
   "metadata": {},
   "outputs": [
    {
     "data": {
      "text/plain": [
       "(-200, 200)"
      ]
     },
     "execution_count": 288,
     "metadata": {},
     "output_type": "execute_result"
    },
    {
     "data": {
      "image/png": "[encoded data removed]",
      "text/plain": [
       "<Figure size 432x288 with 1 Axes>"
      ]
     },
     "metadata": {
      "needs_background": "light"
     },
     "output_type": "display_data"
    }
   ],
   "source": [
    "import numpy as np\n",
    "import matplotlib.pyplot as plt\n",
    "\n",
    "A = [\n",
    "[-100, -100, 1],\n",
    "[-100, 100, 1],\n",
    "[100, 100, 1],\n",
    "[0, 0, 1],\n",
    "[100, -100, 1],\n",
    "[-100, -100, 1]\n",
    "]\n",
    "\n",
    "A = np.array(A)\n",
    "x = A[:,0]\n",
    "y = A[:,1]\n",
    "\n",
    "plt.plot(x, y)\n",
    "plt.ylim([-200, 200])\n",
    "plt.xlim([-200, 200])"
   ]
  },
  {
   "cell_type": "markdown",
   "metadata": {},
   "source": [
    "##### При помощи матричных операций выполните:\n",
    "* Уменьшить объект в два раза\n",
    "* Повернуть на 130 градусов\n",
    "* Отразить объект относительно прямой y=x\n",
    "* Выполнить смещение объекта и масштабирование (применить 2 матрицы трансформаций). Смещение на (200, 300) и масштабирование на (0.5, 1.2)"
   ]
  },
  {
   "cell_type": "markdown",
   "metadata": {},
   "source": [
    "##### Уменьшить объект в два раза"
   ]
  },
  {
   "cell_type": "code",
   "execution_count": 293,
   "metadata": {},
   "outputs": [],
   "source": [
    " matrix_decrease = np.array([[0.5, 0, 0],\n",
    "                             [0, 0.5, 0],\n",
    "                             [0, 0, 0]])"
   ]
  },
  {
   "cell_type": "code",
   "execution_count": 294,
   "metadata": {},
   "outputs": [],
   "source": [
    "A = A.dot(matrix_decrease)"
   ]
  },
  {
   "cell_type": "code",
   "execution_count": 295,
   "metadata": {},
   "outputs": [
    {
     "data": {
      "text/plain": [
       "(-200, 200)"
      ]
     },
     "execution_count": 295,
     "metadata": {},
     "output_type": "execute_result"
    },
    {
     "data": {
      "image/png": "[encoded data removed]",
      "text/plain": [
       "<Figure size 432x288 with 1 Axes>"
      ]
     },
     "metadata": {
      "needs_background": "light"
     },
     "output_type": "display_data"
    }
   ],
   "source": [
    "x = A[:,0]\n",
    "y = A[:,1]\n",
    "plt.plot(x, y)\n",
    "plt.ylim([-200, 200])\n",
    "plt.xlim([-200, 200])"
   ]
  },
  {
   "cell_type": "markdown",
   "metadata": {},
   "source": [
    "##### Повернуть на 130 градусов"
   ]
  },
  {
   "cell_type": "code",
   "execution_count": 297,
   "metadata": {},
   "outputs": [
    {
     "data": {
      "text/plain": [
       "(-200, 200)"
      ]
     },
     "execution_count": 297,
     "metadata": {},
     "output_type": "execute_result"
    },
    {
     "data": {
      "image/png": "[encoded data removed]",
      "text/plain": [
       "<Figure size 432x288 with 1 Axes>"
      ]
     },
     "metadata": {
      "needs_background": "light"
     },
     "output_type": "display_data"
    }
   ],
   "source": [
    "# используем поворотную матрицу\n",
    "angle = -130\n",
    "matrix_rotate = np.array([[np.cos(angle*np.pi/180), np.sin(angle*np.pi/180), 0],\n",
    "                          [-np.sin(angle*np.pi/180), np.cos(angle*np.pi/180), 0],\n",
    "                          [ 0, 0, 1]])\n",
    "A_r_130 = A.dot(matrix_rotate)\n",
    "x = A_r_130[:, 0]\n",
    "y = A_r_130[:, 1]\n",
    "plt.plot(x, y)\n",
    "plt.ylim([-200, 200])\n",
    "plt.xlim([-200, 200])"
   ]
  },
  {
   "cell_type": "markdown",
   "metadata": {},
   "source": [
    "##### Отразить объект относительно прямой y=x"
   ]
  },
  {
   "cell_type": "code",
   "execution_count": 300,
   "metadata": {},
   "outputs": [],
   "source": [
    "matrix_reflection = np.array([[-1, 0, 0],\n",
    "                              [0, 1, 0],\n",
    "                              [0, 0, 0]])"
   ]
  },
  {
   "cell_type": "code",
   "execution_count": 303,
   "metadata": {},
   "outputs": [
    {
     "data": {
      "text/plain": [
       "(-200, 200)"
      ]
     },
     "execution_count": 303,
     "metadata": {},
     "output_type": "execute_result"
    },
    {
     "data": {
      "image/png": "[encoded data removed]",
      "text/plain": [
       "<Figure size 432x288 with 1 Axes>"
      ]
     },
     "metadata": {
      "needs_background": "light"
     },
     "output_type": "display_data"
    }
   ],
   "source": [
    "A_r_130 = A_r_130.dot(matrix_reflection)\n",
    "x = A_r_130[:, 0]\n",
    "y = A_r_130[:, 1]\n",
    "plt.plot(x, y)\n",
    "plt.ylim([-200, 200])\n",
    "plt.xlim([-200, 200])"
   ]
  },
  {
   "cell_type": "markdown",
   "metadata": {},
   "source": [
    "##### Выполнить смещение объекта и масштабирование (применить 2 матрицы трансформаций). Смещение на (200, 300) и масштабирование на (0.5, 1.2)"
   ]
  },
  {
   "cell_type": "code",
   "execution_count": 305,
   "metadata": {},
   "outputs": [],
   "source": [
    "matrix_transform = np.array([[0.5, 0, 0],\n",
    "                             [0, 1.2, 0],\n",
    "                             [0, 0, 0]])\n",
    "matrix_offset = np.array([[200, 300, 0],\n",
    "                          [200, 300, 0],\n",
    "                          [200, 300, 0],\n",
    "                          [200, 300, 0], \n",
    "                          [200, 300, 0],\n",
    "                          [200, 300, 0]])"
   ]
  },
  {
   "cell_type": "code",
   "execution_count": 312,
   "metadata": {},
   "outputs": [
    {
     "data": {
      "text/plain": [
       "array([[203.08142084, 384.52992317,   0.        ],\n",
       "       [164.77919868, 307.39541001,   0.        ],\n",
       "       [196.91857916, 215.47007683,   0.        ],\n",
       "       [200.        , 300.        ,   0.        ],\n",
       "       [235.22080132, 292.60458999,   0.        ],\n",
       "       [203.08142084, 384.52992317,   0.        ]])"
      ]
     },
     "execution_count": 312,
     "metadata": {},
     "output_type": "execute_result"
    }
   ],
   "source": [
    "A_transform = A_r_130.dot(matrix_transform) \n",
    "A_transform_scaling = A_transform + matrix_offset"
   ]
  },
  {
   "cell_type": "code",
   "execution_count": 313,
   "metadata": {},
   "outputs": [
    {
     "data": {
      "text/plain": [
       "(-200, 400)"
      ]
     },
     "execution_count": 313,
     "metadata": {},
     "output_type": "execute_result"
    },
    {
     "data": {
      "image/png": "[encoded data removed]",
      "text/plain": [
       "<Figure size 432x288 with 1 Axes>"
      ]
     },
     "metadata": {
      "needs_background": "light"
     },
     "output_type": "display_data"
    }
   ],
   "source": [
    "x = A_transform_scaling[:, 0]\n",
    "y = A_transform_scaling[:, 1]\n",
    "plt.plot(x, y)\n",
    "plt.ylim([-200, 400])\n",
    "plt.xlim([-200, 400])"
   ]
  }
 ],
 "metadata": {
  "kernelspec": {
   "display_name": "Python 3",
   "language": "python",
   "name": "python3"
  },
  "language_info": {
   "codemirror_mode": {
    "name": "ipython",
    "version": 3
   },
   "file_extension": ".py",
   "mimetype": "text/x-python",
   "name": "python",
   "nbconvert_exporter": "python",
   "pygments_lexer": "ipython3",
   "version": "3.7.3"
  }
 },
 "nbformat": 4,
 "nbformat_minor": 2
}
