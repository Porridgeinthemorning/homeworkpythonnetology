{
 "cells": [
  {
   "cell_type": "markdown",
   "metadata": {},
   "source": [
    "### Задание 1\n",
    "Создайте numpy array с элементами от числа N до 0   (например, для N = 10 это будет array([9, 8, 7, 6, 5, 4, 3, 2, 1, 0]))."
   ]
  },
  {
   "cell_type": "code",
   "execution_count": 1,
   "metadata": {},
   "outputs": [],
   "source": [
    "import numpy as np"
   ]
  },
  {
   "cell_type": "code",
   "execution_count": 8,
   "metadata": {},
   "outputs": [],
   "source": [
    "# Условие задачи можно понять по-разному:\n",
    "# 'С элементами от числа N' имеется ввиду включая это число или,\n",
    "# что N - это кол-во чисел, которое должно полчится в array? \n",
    "# сбивает с верного пути пример с array, в котором N не включается в массив"
   ]
  },
  {
   "cell_type": "code",
   "execution_count": 9,
   "metadata": {},
   "outputs": [],
   "source": [
    "N = 10"
   ]
  },
  {
   "cell_type": "code",
   "execution_count": 10,
   "metadata": {},
   "outputs": [
    {
     "data": {
      "text/plain": [
       "array([10,  9,  8,  7,  6,  5,  4,  3,  2,  1,  0])"
      ]
     },
     "execution_count": 10,
     "metadata": {},
     "output_type": "execute_result"
    }
   ],
   "source": [
    "np.arange(N, -1, step=-1) #вкл N: первое число 10, и всего в array 11 чисел  "
   ]
  },
  {
   "cell_type": "code",
   "execution_count": 11,
   "metadata": {},
   "outputs": [
    {
     "data": {
      "text/plain": [
       "array([9, 8, 7, 6, 5, 4, 3, 2, 1, 0])"
      ]
     },
     "execution_count": 11,
     "metadata": {},
     "output_type": "execute_result"
    }
   ],
   "source": [
    "np.arange(N-1, -1, step=-1) #N не включаем, всего в array 10 чисел  "
   ]
  },
  {
   "cell_type": "markdown",
   "metadata": {},
   "source": [
    "### Задание 2\n",
    "Создайте диагональную матрицу с элементами от N до 0. Посчитайте сумму ее значений на диагонали."
   ]
  },
  {
   "cell_type": "code",
   "execution_count": 12,
   "metadata": {},
   "outputs": [],
   "source": [
    "def diagonal_matrix(N):\n",
    "    d = int(round(N ** 0.5, 0))\n",
    "    N = d ** 2\n",
    "    x = np.arange(N).reshape((d, d))\n",
    "    x = np.diag(np.diag(x))\n",
    "    return x"
   ]
  },
  {
   "cell_type": "code",
   "execution_count": 13,
   "metadata": {},
   "outputs": [
    {
     "name": "stdout",
     "output_type": "stream",
     "text": [
      "23\n"
     ]
    },
    {
     "data": {
      "text/plain": [
       "array([[ 0,  0,  0,  0,  0],\n",
       "       [ 0,  6,  0,  0,  0],\n",
       "       [ 0,  0, 12,  0,  0],\n",
       "       [ 0,  0,  0, 18,  0],\n",
       "       [ 0,  0,  0,  0, 24]])"
      ]
     },
     "execution_count": 13,
     "metadata": {},
     "output_type": "execute_result"
    }
   ],
   "source": [
    "diagonal_matrix(int(input()))"
   ]
  },
  {
   "cell_type": "markdown",
   "metadata": {},
   "source": [
    "### Задание 3  \n",
    "Решите систему уравнений:  \n",
    "4x + 2y + z = 4  \n",
    "x + 3y = 12  \n",
    "5y + 4z = -3  "
   ]
  },
  {
   "cell_type": "code",
   "execution_count": 14,
   "metadata": {},
   "outputs": [],
   "source": [
    "from numpy import linalg as LA"
   ]
  },
  {
   "cell_type": "code",
   "execution_count": 15,
   "metadata": {},
   "outputs": [],
   "source": [
    "a = np.array([[4, 2, 1], [1, 3, 0], [0, 5, 4]])\n",
    "b = np.array([4, 12, -3])"
   ]
  },
  {
   "cell_type": "code",
   "execution_count": 16,
   "metadata": {},
   "outputs": [
    {
     "data": {
      "text/plain": [
       "array([ 0.46666667,  3.84444444, -5.55555556])"
      ]
     },
     "execution_count": 16,
     "metadata": {},
     "output_type": "execute_result"
    }
   ],
   "source": [
    "LA.solve(a, b)"
   ]
  },
  {
   "cell_type": "code",
   "execution_count": 17,
   "metadata": {},
   "outputs": [
    {
     "data": {
      "text/plain": [
       "True"
      ]
     },
     "execution_count": 17,
     "metadata": {},
     "output_type": "execute_result"
    }
   ],
   "source": [
    "np.allclose(np.dot(a, LA.solve(a, b)), b)"
   ]
  },
  {
   "cell_type": "markdown",
   "metadata": {},
   "source": [
    "### Задание 4\n",
    "Найти похожего пользователя (посчитать косинусовое расстояние)"
   ]
  },
  {
   "cell_type": "code",
   "execution_count": 42,
   "metadata": {},
   "outputs": [],
   "source": [
    "# имеет ли смысл использовать в реальной задачи количественные признаки, вместо бинарных?\n",
    "# к примеру, из клиента можно сделать вектор типа [0,1,1,0,1,0,0,1], где 1 - это наличие какого-то признака\n",
    "# в данный задаче, как я понял, используется количественные признаки, к примеру количество транзакций = 4\n",
    "# К сожалению в лекции не было сказано, что если в векторе используются количественные признаки - вектор лучше \n",
    "# нормализовать (привести к единичной длине), чтобы минимизировать ошибку. \n",
    "# Например, если вектор содержит кол-во транзакций = 5 и оборот = 30000000\n",
    "\n",
    "customer = [[0, 2, 3, 5, 0, 0, 3],\n",
    "            [1, 0, 4, 0, 9, 3, 4],\n",
    "            [2, 3, 0, 0, 2, 4, 2],\n",
    "            [3, 0, 4, 2, 2, 0, 5],\n",
    "            [4, 1, 3, 2, 5, 6, 4],\n",
    "            [5, 0, 4, 0, 0, 0, 2]]"
   ]
  },
  {
   "cell_type": "code",
   "execution_count": 53,
   "metadata": {},
   "outputs": [],
   "source": [
    "def cosine(client, customer):\n",
    "    user_distance = 0\n",
    "    user = 0\n",
    "    length_client = np.linalg.norm(client)\n",
    "    for i in range(len(customer)):\n",
    "        length_customer_i = np.linalg.norm(customer[i])\n",
    "        cos_distance = np.dot(client, customer[i]) / (length_client*length_customer_i)\n",
    "        if cos_distance > user_distance:\n",
    "            user_distance = cos_distance\n",
    "            user = customer[i][0]\n",
    "    #return user_distance\n",
    "    print(f'Нового пользователя id {client[0]} можно отнести в группу с пользователем {user}, расстояние между пользователями составляет {user_distance}')"
   ]
  },
  {
   "cell_type": "code",
   "execution_count": 54,
   "metadata": {},
   "outputs": [
    {
     "name": "stdout",
     "output_type": "stream",
     "text": [
      "Введите вектор для клиента: 7 цифр через пробел: 6 4 4 5 3 3 4\n",
      "Нового пользователя id 6 можно отнести в группу с пользователем 4, расстояние между пользователями составляет 0.8492615172803017\n"
     ]
    }
   ],
   "source": [
    "client = input(f'Введите вектор для клиента: {len(customer[1])} цифр через пробел: ')\n",
    "client = np.array(list(map(int, client.split())))\n",
    "cosine(client, customer)"
   ]
  },
  {
   "cell_type": "code",
   "execution_count": null,
   "metadata": {},
   "outputs": [],
   "source": []
  }
 ],
 "metadata": {
  "kernelspec": {
   "display_name": "Python 3",
   "language": "python",
   "name": "python3"
  },
  "language_info": {
   "codemirror_mode": {
    "name": "ipython",
    "version": 3
   },
   "file_extension": ".py",
   "mimetype": "text/x-python",
   "name": "python",
   "nbconvert_exporter": "python",
   "pygments_lexer": "ipython3",
   "version": "3.7.3"
  }
 },
 "nbformat": 4,
 "nbformat_minor": 2
}
